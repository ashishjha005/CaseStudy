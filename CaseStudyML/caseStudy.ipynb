{
 "cells": [
  {
   "cell_type": "code",
   "execution_count": 1,
   "metadata": {},
   "outputs": [],
   "source": [
    "import numpy as np\n",
    "import pandas as pd\n",
    "import matplotlib.pyplot as plt"
   ]
  },
  {
   "cell_type": "markdown",
   "metadata": {},
   "source": [
    "# Loading excel train file with the help of pandas library"
   ]
  },
  {
   "cell_type": "code",
   "execution_count": 2,
   "metadata": {},
   "outputs": [],
   "source": [
    "df=pd.read_excel(r\"C:\\Users\\USER\\Data Science Projects\\Untitled Folder\\Training_Data.01 (1) (1).xlsx\")"
   ]
  },
  {
   "cell_type": "code",
   "execution_count": 3,
   "metadata": {},
   "outputs": [
    {
     "data": {
      "text/html": [
       "<div>\n",
       "<style scoped>\n",
       "    .dataframe tbody tr th:only-of-type {\n",
       "        vertical-align: middle;\n",
       "    }\n",
       "\n",
       "    .dataframe tbody tr th {\n",
       "        vertical-align: top;\n",
       "    }\n",
       "\n",
       "    .dataframe thead th {\n",
       "        text-align: right;\n",
       "    }\n",
       "</style>\n",
       "<table border=\"1\" class=\"dataframe\">\n",
       "  <thead>\n",
       "    <tr style=\"text-align: right;\">\n",
       "      <th></th>\n",
       "      <th>Company Name</th>\n",
       "      <th>Business Description</th>\n",
       "      <th>Industry Classification Tag</th>\n",
       "    </tr>\n",
       "  </thead>\n",
       "  <tbody>\n",
       "    <tr>\n",
       "      <th>0</th>\n",
       "      <td>ADSOUTH PARTNERS, INC.</td>\n",
       "      <td>Adsouth Partners, Inc. provides advertising ag...</td>\n",
       "      <td>Advertising</td>\n",
       "    </tr>\n",
       "    <tr>\n",
       "      <th>1</th>\n",
       "      <td>Artec Global Media, Inc.</td>\n",
       "      <td>Artec Global Media, Inc., formerly Artec Consu...</td>\n",
       "      <td>Advertising</td>\n",
       "    </tr>\n",
       "    <tr>\n",
       "      <th>2</th>\n",
       "      <td>Betawave Corp.</td>\n",
       "      <td>Betawave Corporation provides online marketing...</td>\n",
       "      <td>Advertising</td>\n",
       "    </tr>\n",
       "    <tr>\n",
       "      <th>3</th>\n",
       "      <td>BOSTON OMAHA Corp</td>\n",
       "      <td>Boston Omaha Corporation is engaged in the bus...</td>\n",
       "      <td>Advertising</td>\n",
       "    </tr>\n",
       "    <tr>\n",
       "      <th>4</th>\n",
       "      <td>Bright Mountain Media Inc</td>\n",
       "      <td>Bright Mountain Media, Inc. is a digital media...</td>\n",
       "      <td>Advertising</td>\n",
       "    </tr>\n",
       "  </tbody>\n",
       "</table>\n",
       "</div>"
      ],
      "text/plain": [
       "                Company Name  \\\n",
       "0     ADSOUTH PARTNERS, INC.   \n",
       "1   Artec Global Media, Inc.   \n",
       "2             Betawave Corp.   \n",
       "3          BOSTON OMAHA Corp   \n",
       "4  Bright Mountain Media Inc   \n",
       "\n",
       "                                Business Description  \\\n",
       "0  Adsouth Partners, Inc. provides advertising ag...   \n",
       "1  Artec Global Media, Inc., formerly Artec Consu...   \n",
       "2  Betawave Corporation provides online marketing...   \n",
       "3  Boston Omaha Corporation is engaged in the bus...   \n",
       "4  Bright Mountain Media, Inc. is a digital media...   \n",
       "\n",
       "  Industry Classification Tag  \n",
       "0                 Advertising  \n",
       "1                 Advertising  \n",
       "2                 Advertising  \n",
       "3                 Advertising  \n",
       "4                 Advertising  "
      ]
     },
     "execution_count": 3,
     "metadata": {},
     "output_type": "execute_result"
    }
   ],
   "source": [
    "df.head()"
   ]
  },
  {
   "cell_type": "code",
   "execution_count": 4,
   "metadata": {},
   "outputs": [
    {
     "data": {
      "text/plain": [
       "array(['Advertising', 'Aerospace & Defense', 'Apparel Retail',\n",
       "       'Apparel, Accessories & Luxury Goods', 'Application Software',\n",
       "       'Asset Management & Custody Banks', 'Auto Parts & Equipment',\n",
       "       'Biotechnology', 'Building Products', 'Casinos & Gaming',\n",
       "       'Commodity Chemicals', 'Communications Equipment',\n",
       "       'Construction & Engineering',\n",
       "       'Construction Machinery & Heavy Trucks', 'Consumer Finance',\n",
       "       'Data Processing & Outsourced Services',\n",
       "       'Diversified Metals & Mining', 'Diversified Support Services',\n",
       "       'Electric Utilities', 'Electrical Components & Equipment',\n",
       "       'Electronic Equipment & Instruments',\n",
       "       'Environmental & Facilities Services', 'Gold',\n",
       "       'Health Care Equipment', 'Health Care Facilities',\n",
       "       'Health Care Services', 'Health Care Supplies',\n",
       "       'Health Care Technology', 'Homebuilding',\n",
       "       'Hotels, Resorts & Cruise Lines',\n",
       "       'Human Resource & Employment Services', 'Industrial Machinery',\n",
       "       'Integrated Telecommunication Services',\n",
       "       'Interactive Media & Services',\n",
       "       'Internet & Direct Marketing Retail',\n",
       "       'Internet Services & Infrastructure',\n",
       "       'Investment Banking & Brokerage', 'IT Consulting & Other Services',\n",
       "       'Leisure Products', 'Life Sciences Tools & Services',\n",
       "       'Movies & Entertainment', 'Oil & Gas Equipment & Services',\n",
       "       'Oil & Gas Exploration & Production',\n",
       "       'Oil & Gas Refining & Marketing',\n",
       "       'Oil & Gas Storage & Transportation', 'Packaged Foods & Meats',\n",
       "       'Personal Products', 'Pharmaceuticals',\n",
       "       'Property & Casualty Insurance', 'Real Estate Operating Companies',\n",
       "       'Regional Banks', 'Research & Consulting Services', 'Restaurants',\n",
       "       'Semiconductors', 'Specialty Chemicals', 'Specialty Stores',\n",
       "       'Steel', 'Systems Software', 'Technology Distributors',\n",
       "       'Technology Hardware, Storage & Peripherals',\n",
       "       'Thrifts & Mortgage Finance', 'Trading Companies & Distributors'],\n",
       "      dtype=object)"
      ]
     },
     "execution_count": 4,
     "metadata": {},
     "output_type": "execute_result"
    }
   ],
   "source": [
    "df['Industry Classification Tag'].unique()\n"
   ]
  },
  {
   "cell_type": "code",
   "execution_count": 5,
   "metadata": {},
   "outputs": [
    {
     "data": {
      "text/plain": [
       "Company Name                    0\n",
       "Business Description           23\n",
       "Industry Classification Tag     0\n",
       "dtype: int64"
      ]
     },
     "execution_count": 5,
     "metadata": {},
     "output_type": "execute_result"
    }
   ],
   "source": [
    "df.isnull().sum()"
   ]
  },
  {
   "cell_type": "code",
   "execution_count": 6,
   "metadata": {},
   "outputs": [
    {
     "data": {
      "text/plain": [
       "(6045, 3)"
      ]
     },
     "execution_count": 6,
     "metadata": {},
     "output_type": "execute_result"
    }
   ],
   "source": [
    "df.shape"
   ]
  },
  {
   "cell_type": "markdown",
   "metadata": {},
   "source": [
    "# number of Null values are very less thats why we will drop the null values"
   ]
  },
  {
   "cell_type": "code",
   "execution_count": 7,
   "metadata": {},
   "outputs": [],
   "source": [
    "df2=df.dropna()"
   ]
  },
  {
   "cell_type": "code",
   "execution_count": 8,
   "metadata": {},
   "outputs": [
    {
     "data": {
      "text/plain": [
       "(6022, 3)"
      ]
     },
     "execution_count": 8,
     "metadata": {},
     "output_type": "execute_result"
    }
   ],
   "source": [
    "df2.shape"
   ]
  },
  {
   "cell_type": "code",
   "execution_count": 9,
   "metadata": {},
   "outputs": [
    {
     "data": {
      "text/plain": [
       "array(['Advertising', 'Aerospace & Defense', 'Apparel Retail',\n",
       "       'Apparel, Accessories & Luxury Goods', 'Application Software',\n",
       "       'Asset Management & Custody Banks', 'Auto Parts & Equipment',\n",
       "       'Biotechnology', 'Building Products', 'Casinos & Gaming',\n",
       "       'Commodity Chemicals', 'Communications Equipment',\n",
       "       'Construction & Engineering',\n",
       "       'Construction Machinery & Heavy Trucks', 'Consumer Finance',\n",
       "       'Data Processing & Outsourced Services',\n",
       "       'Diversified Metals & Mining', 'Diversified Support Services',\n",
       "       'Electric Utilities', 'Electrical Components & Equipment',\n",
       "       'Electronic Equipment & Instruments',\n",
       "       'Environmental & Facilities Services', 'Gold',\n",
       "       'Health Care Equipment', 'Health Care Facilities',\n",
       "       'Health Care Services', 'Health Care Supplies',\n",
       "       'Health Care Technology', 'Homebuilding',\n",
       "       'Hotels, Resorts & Cruise Lines',\n",
       "       'Human Resource & Employment Services', 'Industrial Machinery',\n",
       "       'Integrated Telecommunication Services',\n",
       "       'Interactive Media & Services',\n",
       "       'Internet & Direct Marketing Retail',\n",
       "       'Internet Services & Infrastructure',\n",
       "       'Investment Banking & Brokerage', 'IT Consulting & Other Services',\n",
       "       'Leisure Products', 'Life Sciences Tools & Services',\n",
       "       'Movies & Entertainment', 'Oil & Gas Equipment & Services',\n",
       "       'Oil & Gas Exploration & Production',\n",
       "       'Oil & Gas Refining & Marketing',\n",
       "       'Oil & Gas Storage & Transportation', 'Packaged Foods & Meats',\n",
       "       'Personal Products', 'Pharmaceuticals',\n",
       "       'Property & Casualty Insurance', 'Real Estate Operating Companies',\n",
       "       'Regional Banks', 'Research & Consulting Services', 'Restaurants',\n",
       "       'Semiconductors', 'Specialty Chemicals', 'Specialty Stores',\n",
       "       'Steel', 'Systems Software', 'Technology Distributors',\n",
       "       'Technology Hardware, Storage & Peripherals',\n",
       "       'Thrifts & Mortgage Finance', 'Trading Companies & Distributors'],\n",
       "      dtype=object)"
      ]
     },
     "execution_count": 9,
     "metadata": {},
     "output_type": "execute_result"
    }
   ],
   "source": [
    "df['Industry Classification Tag'].unique()"
   ]
  },
  {
   "cell_type": "code",
   "execution_count": null,
   "metadata": {},
   "outputs": [],
   "source": []
  },
  {
   "cell_type": "code",
   "execution_count": null,
   "metadata": {},
   "outputs": [],
   "source": [
    "df2[\"Company Name\"].unique()"
   ]
  },
  {
   "cell_type": "markdown",
   "metadata": {},
   "source": [
    "# There are too many categories which we have to predict, thats why we will convert them into labels"
   ]
  },
  {
   "cell_type": "code",
   "execution_count": null,
   "metadata": {},
   "outputs": [],
   "source": [
    "from sklearn import preprocessing\n",
    "le = preprocessing.LabelEncoder()\n",
    "df2['label']=le.fit_transform(df2['Industry Classification Tag'])"
   ]
  },
  {
   "cell_type": "code",
   "execution_count": null,
   "metadata": {},
   "outputs": [],
   "source": [
    "df2"
   ]
  },
  {
   "cell_type": "markdown",
   "metadata": {},
   "source": [
    "# Splitting our data into test and train data"
   ]
  },
  {
   "cell_type": "code",
   "execution_count": null,
   "metadata": {},
   "outputs": [],
   "source": [
    "from sklearn.model_selection import train_test_split\n",
    "X_train, X_test, y_train, y_test = train_test_split(df2.iloc[:,0:2],df2.label)"
   ]
  },
  {
   "cell_type": "code",
   "execution_count": null,
   "metadata": {},
   "outputs": [],
   "source": [
    "X_train.head()"
   ]
  },
  {
   "cell_type": "markdown",
   "metadata": {},
   "source": [
    "# There are two features both are in words but in the business description already the name of company is given thats why we will ignore company name feature, and converting the words into vector form by the help of CountVectorizer."
   ]
  },
  {
   "cell_type": "code",
   "execution_count": null,
   "metadata": {},
   "outputs": [],
   "source": [
    "from sklearn.feature_extraction.text import CountVectorizer\n",
    "v = CountVectorizer()\n",
    "X_train_count_company_name = v.fit_transform(X_train['Business Description'].values)\n",
    "X_train_count_company_name.toarray()[:2]"
   ]
  },
  {
   "cell_type": "markdown",
   "metadata": {},
   "source": [
    "# We will use Multinomial naive bays for this classification "
   ]
  },
  {
   "cell_type": "code",
   "execution_count": null,
   "metadata": {},
   "outputs": [],
   "source": [
    "from sklearn.naive_bayes import MultinomialNB\n",
    "model = MultinomialNB()\n",
    "model.fit(X_train_count_company_name,y_train)"
   ]
  },
  {
   "cell_type": "code",
   "execution_count": null,
   "metadata": {},
   "outputs": [],
   "source": [
    "X_test_count1 = v.transform(X_test[\"Business Description\"])\n"
   ]
  },
  {
   "cell_type": "raw",
   "metadata": {},
   "source": [
    "#Finding Score of Model"
   ]
  },
  {
   "cell_type": "code",
   "execution_count": null,
   "metadata": {},
   "outputs": [],
   "source": [
    "model.score(X_test_count1,y_test)"
   ]
  },
  {
   "cell_type": "code",
   "execution_count": null,
   "metadata": {},
   "outputs": [],
   "source": [
    "y_pred=model.predict(X_test_count1)"
   ]
  },
  {
   "cell_type": "markdown",
   "metadata": {},
   "source": [
    "# Confusion Matrics"
   ]
  },
  {
   "cell_type": "code",
   "execution_count": null,
   "metadata": {},
   "outputs": [],
   "source": [
    "from sklearn.metrics import confusion_matrix\n",
    "cm=confusion_matrix(y_test,y_pred)\n",
    "cm"
   ]
  },
  {
   "cell_type": "markdown",
   "metadata": {},
   "source": [
    "# Converting the labels into the respective name "
   ]
  },
  {
   "cell_type": "code",
   "execution_count": null,
   "metadata": {},
   "outputs": [],
   "source": [
    "dct={}\n",
    "for index,row in df2.iterrows():\n",
    "              if row['label'] not in dct.keys():\n",
    "                  dct[row['label']]=row[\"Industry Classification Tag\"]\n",
    "        \n"
   ]
  },
  {
   "cell_type": "code",
   "execution_count": null,
   "metadata": {
    "scrolled": true
   },
   "outputs": [],
   "source": [
    "dct"
   ]
  },
  {
   "cell_type": "markdown",
   "metadata": {},
   "source": [
    "# Testing for some self given description "
   ]
  },
  {
   "cell_type": "code",
   "execution_count": null,
   "metadata": {},
   "outputs": [],
   "source": [
    "\n",
    "description=[\"Marchex, Inc. is a mobile advertising analytics company. The Company offers products and services for enterprises that depend on consumer phone calls to drive sales. Its media analytics products can provide actionable intelligence on media channels advertisers use to acquire customers over the phone. Its Marchex Omnichannel Analytics Cloud helps marketers connect customer conversions driven from paid media channels, including search, display and video, social and sites, to phone calls made to a business. Its product offerings include Marchex Call Analytics, Marchex Search Analytics, Marchex Display and Video Analytics, Marchex Social Analytics, Marchex Call Marketplace and Local Leads. Its Local Leads platform is a white-labeled, full service advertising solution for small business resellers, such as Yellow Pages providers and vertical marketing service providers, to sell call advertising, search marketing and other lead generation products.\"]\n",
    "test=v.transform(description)\n",
    "ans=model.predict(test)"
   ]
  },
  {
   "cell_type": "markdown",
   "metadata": {},
   "source": [
    "# Importing the test excel file to know the output"
   ]
  },
  {
   "cell_type": "code",
   "execution_count": null,
   "metadata": {},
   "outputs": [],
   "source": [
    "test_dataset=pd.read_excel(r\"C:\\Users\\USER\\Data Science Projects\\Untitled Folder\\Testing_Data_2_ (1) (1).xlsx\")\n",
    "test_dataset.size"
   ]
  },
  {
   "cell_type": "code",
   "execution_count": null,
   "metadata": {},
   "outputs": [],
   "source": [
    "test_dataset.isnull().sum()"
   ]
  },
  {
   "cell_type": "code",
   "execution_count": null,
   "metadata": {},
   "outputs": [],
   "source": [
    "test_dataset.head()"
   ]
  },
  {
   "cell_type": "code",
   "execution_count": null,
   "metadata": {},
   "outputs": [],
   "source": []
  },
  {
   "cell_type": "code",
   "execution_count": null,
   "metadata": {},
   "outputs": [],
   "source": [
    "dct2={'Business Description':[],'Output/Industry Classification Tag':[]}\n",
    "I=0\n",
    "for index,rows in test_dataset.iterrows():\n",
    "    if I==1000:\n",
    "        break\n",
    "    \n",
    "    I+=1\n",
    "    dct2['Business Description'].append(rows['Business Description'])\n",
    "    description=[rows['Business Description']]\n",
    "    test=v.transform(description)\n",
    "    ans=model.predict(test)\n",
    "    dct2['Output/Industry Classification Tag'].append(dct[ans[0]])"
   ]
  },
  {
   "cell_type": "code",
   "execution_count": null,
   "metadata": {},
   "outputs": [],
   "source": [
    "FINALOUTPUT_DATAFRAME=pd.DataFrame(dct2)\n"
   ]
  },
  {
   "cell_type": "markdown",
   "metadata": {},
   "source": [
    "# Final OUTPUT DATASET "
   ]
  },
  {
   "cell_type": "code",
   "execution_count": null,
   "metadata": {},
   "outputs": [],
   "source": [
    "FINALOUTPUT_DATAFRAME.head(100)"
   ]
  },
  {
   "cell_type": "code",
   "execution_count": null,
   "metadata": {},
   "outputs": [],
   "source": []
  }
 ],
 "metadata": {
  "kernelspec": {
   "display_name": "Python 3",
   "language": "python",
   "name": "python3"
  },
  "language_info": {
   "codemirror_mode": {
    "name": "ipython",
    "version": 3
   },
   "file_extension": ".py",
   "mimetype": "text/x-python",
   "name": "python",
   "nbconvert_exporter": "python",
   "pygments_lexer": "ipython3",
   "version": "3.8.5"
  }
 },
 "nbformat": 4,
 "nbformat_minor": 4
}
