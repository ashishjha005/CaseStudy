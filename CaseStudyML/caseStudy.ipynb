{
 "cells": [
  {
   "cell_type": "code",
   "execution_count": 4,
   "metadata": {},
   "outputs": [],
   "source": [
    "import numpy as np\n",
    "import pandas as pd\n",
    "import matplotlib.pyplot as plt"
   ]
  },
  {
   "cell_type": "markdown",
   "metadata": {},
   "source": [
    "# Loading excel train file with the help of pandas library"
   ]
  },
  {
   "cell_type": "code",
   "execution_count": 5,
   "metadata": {},
   "outputs": [],
   "source": [
    "df=pd.read_excel(r\"C:\\Users\\USER\\Data Science Projects\\CaseStudyML\\Training_Data.01 (1) (1).xlsx\")"
   ]
  },
  {
   "cell_type": "code",
   "execution_count": 6,
   "metadata": {},
   "outputs": [
    {
     "data": {
      "text/html": [
       "<div>\n",
       "<style scoped>\n",
       "    .dataframe tbody tr th:only-of-type {\n",
       "        vertical-align: middle;\n",
       "    }\n",
       "\n",
       "    .dataframe tbody tr th {\n",
       "        vertical-align: top;\n",
       "    }\n",
       "\n",
       "    .dataframe thead th {\n",
       "        text-align: right;\n",
       "    }\n",
       "</style>\n",
       "<table border=\"1\" class=\"dataframe\">\n",
       "  <thead>\n",
       "    <tr style=\"text-align: right;\">\n",
       "      <th></th>\n",
       "      <th>Company Name</th>\n",
       "      <th>Business Description</th>\n",
       "      <th>Industry Classification Tag</th>\n",
       "    </tr>\n",
       "  </thead>\n",
       "  <tbody>\n",
       "    <tr>\n",
       "      <th>0</th>\n",
       "      <td>ADSOUTH PARTNERS, INC.</td>\n",
       "      <td>Adsouth Partners, Inc. provides advertising ag...</td>\n",
       "      <td>Advertising</td>\n",
       "    </tr>\n",
       "    <tr>\n",
       "      <th>1</th>\n",
       "      <td>Artec Global Media, Inc.</td>\n",
       "      <td>Artec Global Media, Inc., formerly Artec Consu...</td>\n",
       "      <td>Advertising</td>\n",
       "    </tr>\n",
       "    <tr>\n",
       "      <th>2</th>\n",
       "      <td>Betawave Corp.</td>\n",
       "      <td>Betawave Corporation provides online marketing...</td>\n",
       "      <td>Advertising</td>\n",
       "    </tr>\n",
       "    <tr>\n",
       "      <th>3</th>\n",
       "      <td>BOSTON OMAHA Corp</td>\n",
       "      <td>Boston Omaha Corporation is engaged in the bus...</td>\n",
       "      <td>Advertising</td>\n",
       "    </tr>\n",
       "    <tr>\n",
       "      <th>4</th>\n",
       "      <td>Bright Mountain Media Inc</td>\n",
       "      <td>Bright Mountain Media, Inc. is a digital media...</td>\n",
       "      <td>Advertising</td>\n",
       "    </tr>\n",
       "  </tbody>\n",
       "</table>\n",
       "</div>"
      ],
      "text/plain": [
       "                Company Name  \\\n",
       "0     ADSOUTH PARTNERS, INC.   \n",
       "1   Artec Global Media, Inc.   \n",
       "2             Betawave Corp.   \n",
       "3          BOSTON OMAHA Corp   \n",
       "4  Bright Mountain Media Inc   \n",
       "\n",
       "                                Business Description  \\\n",
       "0  Adsouth Partners, Inc. provides advertising ag...   \n",
       "1  Artec Global Media, Inc., formerly Artec Consu...   \n",
       "2  Betawave Corporation provides online marketing...   \n",
       "3  Boston Omaha Corporation is engaged in the bus...   \n",
       "4  Bright Mountain Media, Inc. is a digital media...   \n",
       "\n",
       "  Industry Classification Tag  \n",
       "0                 Advertising  \n",
       "1                 Advertising  \n",
       "2                 Advertising  \n",
       "3                 Advertising  \n",
       "4                 Advertising  "
      ]
     },
     "execution_count": 6,
     "metadata": {},
     "output_type": "execute_result"
    }
   ],
   "source": [
    "df.head()"
   ]
  },
  {
   "cell_type": "code",
   "execution_count": 7,
   "metadata": {},
   "outputs": [
    {
     "data": {
      "text/plain": [
       "array(['Advertising', 'Aerospace & Defense', 'Apparel Retail',\n",
       "       'Apparel, Accessories & Luxury Goods', 'Application Software',\n",
       "       'Asset Management & Custody Banks', 'Auto Parts & Equipment',\n",
       "       'Biotechnology', 'Building Products', 'Casinos & Gaming',\n",
       "       'Commodity Chemicals', 'Communications Equipment',\n",
       "       'Construction & Engineering',\n",
       "       'Construction Machinery & Heavy Trucks', 'Consumer Finance',\n",
       "       'Data Processing & Outsourced Services',\n",
       "       'Diversified Metals & Mining', 'Diversified Support Services',\n",
       "       'Electric Utilities', 'Electrical Components & Equipment',\n",
       "       'Electronic Equipment & Instruments',\n",
       "       'Environmental & Facilities Services', 'Gold',\n",
       "       'Health Care Equipment', 'Health Care Facilities',\n",
       "       'Health Care Services', 'Health Care Supplies',\n",
       "       'Health Care Technology', 'Homebuilding',\n",
       "       'Hotels, Resorts & Cruise Lines',\n",
       "       'Human Resource & Employment Services', 'Industrial Machinery',\n",
       "       'Integrated Telecommunication Services',\n",
       "       'Interactive Media & Services',\n",
       "       'Internet & Direct Marketing Retail',\n",
       "       'Internet Services & Infrastructure',\n",
       "       'Investment Banking & Brokerage', 'IT Consulting & Other Services',\n",
       "       'Leisure Products', 'Life Sciences Tools & Services',\n",
       "       'Movies & Entertainment', 'Oil & Gas Equipment & Services',\n",
       "       'Oil & Gas Exploration & Production',\n",
       "       'Oil & Gas Refining & Marketing',\n",
       "       'Oil & Gas Storage & Transportation', 'Packaged Foods & Meats',\n",
       "       'Personal Products', 'Pharmaceuticals',\n",
       "       'Property & Casualty Insurance', 'Real Estate Operating Companies',\n",
       "       'Regional Banks', 'Research & Consulting Services', 'Restaurants',\n",
       "       'Semiconductors', 'Specialty Chemicals', 'Specialty Stores',\n",
       "       'Steel', 'Systems Software', 'Technology Distributors',\n",
       "       'Technology Hardware, Storage & Peripherals',\n",
       "       'Thrifts & Mortgage Finance', 'Trading Companies & Distributors'],\n",
       "      dtype=object)"
      ]
     },
     "execution_count": 7,
     "metadata": {},
     "output_type": "execute_result"
    }
   ],
   "source": [
    "df['Industry Classification Tag'].unique()\n"
   ]
  },
  {
   "cell_type": "code",
   "execution_count": 8,
   "metadata": {},
   "outputs": [
    {
     "data": {
      "text/plain": [
       "Company Name                    0\n",
       "Business Description           23\n",
       "Industry Classification Tag     0\n",
       "dtype: int64"
      ]
     },
     "execution_count": 8,
     "metadata": {},
     "output_type": "execute_result"
    }
   ],
   "source": [
    "df.isnull().sum()"
   ]
  },
  {
   "cell_type": "code",
   "execution_count": 9,
   "metadata": {},
   "outputs": [
    {
     "data": {
      "text/plain": [
       "(6045, 3)"
      ]
     },
     "execution_count": 9,
     "metadata": {},
     "output_type": "execute_result"
    }
   ],
   "source": [
    "df.shape"
   ]
  },
  {
   "cell_type": "markdown",
   "metadata": {},
   "source": [
    "# number of Null values are very less thats why we will drop the null values"
   ]
  },
  {
   "cell_type": "code",
   "execution_count": 10,
   "metadata": {},
   "outputs": [],
   "source": [
    "df2=df.dropna()"
   ]
  },
  {
   "cell_type": "code",
   "execution_count": 11,
   "metadata": {},
   "outputs": [
    {
     "data": {
      "text/plain": [
       "(6022, 3)"
      ]
     },
     "execution_count": 11,
     "metadata": {},
     "output_type": "execute_result"
    }
   ],
   "source": [
    "df2.shape"
   ]
  },
  {
   "cell_type": "code",
   "execution_count": 12,
   "metadata": {},
   "outputs": [
    {
     "data": {
      "text/plain": [
       "array(['Advertising', 'Aerospace & Defense', 'Apparel Retail',\n",
       "       'Apparel, Accessories & Luxury Goods', 'Application Software',\n",
       "       'Asset Management & Custody Banks', 'Auto Parts & Equipment',\n",
       "       'Biotechnology', 'Building Products', 'Casinos & Gaming',\n",
       "       'Commodity Chemicals', 'Communications Equipment',\n",
       "       'Construction & Engineering',\n",
       "       'Construction Machinery & Heavy Trucks', 'Consumer Finance',\n",
       "       'Data Processing & Outsourced Services',\n",
       "       'Diversified Metals & Mining', 'Diversified Support Services',\n",
       "       'Electric Utilities', 'Electrical Components & Equipment',\n",
       "       'Electronic Equipment & Instruments',\n",
       "       'Environmental & Facilities Services', 'Gold',\n",
       "       'Health Care Equipment', 'Health Care Facilities',\n",
       "       'Health Care Services', 'Health Care Supplies',\n",
       "       'Health Care Technology', 'Homebuilding',\n",
       "       'Hotels, Resorts & Cruise Lines',\n",
       "       'Human Resource & Employment Services', 'Industrial Machinery',\n",
       "       'Integrated Telecommunication Services',\n",
       "       'Interactive Media & Services',\n",
       "       'Internet & Direct Marketing Retail',\n",
       "       'Internet Services & Infrastructure',\n",
       "       'Investment Banking & Brokerage', 'IT Consulting & Other Services',\n",
       "       'Leisure Products', 'Life Sciences Tools & Services',\n",
       "       'Movies & Entertainment', 'Oil & Gas Equipment & Services',\n",
       "       'Oil & Gas Exploration & Production',\n",
       "       'Oil & Gas Refining & Marketing',\n",
       "       'Oil & Gas Storage & Transportation', 'Packaged Foods & Meats',\n",
       "       'Personal Products', 'Pharmaceuticals',\n",
       "       'Property & Casualty Insurance', 'Real Estate Operating Companies',\n",
       "       'Regional Banks', 'Research & Consulting Services', 'Restaurants',\n",
       "       'Semiconductors', 'Specialty Chemicals', 'Specialty Stores',\n",
       "       'Steel', 'Systems Software', 'Technology Distributors',\n",
       "       'Technology Hardware, Storage & Peripherals',\n",
       "       'Thrifts & Mortgage Finance', 'Trading Companies & Distributors'],\n",
       "      dtype=object)"
      ]
     },
     "execution_count": 12,
     "metadata": {},
     "output_type": "execute_result"
    }
   ],
   "source": [
    "df['Industry Classification Tag'].unique()"
   ]
  },
  {
   "cell_type": "code",
   "execution_count": null,
   "metadata": {},
   "outputs": [],
   "source": []
  },
  {
   "cell_type": "code",
   "execution_count": 13,
   "metadata": {},
   "outputs": [
    {
     "data": {
      "text/plain": [
       "array(['ADSOUTH PARTNERS, INC.', 'Artec Global Media, Inc.',\n",
       "       'Betawave Corp.', ..., 'XLI Technologies Inc',\n",
       "       'Armco Metals Holdings, Inc.',\n",
       "       'Foundation Building Materials, Inc.'], dtype=object)"
      ]
     },
     "execution_count": 13,
     "metadata": {},
     "output_type": "execute_result"
    }
   ],
   "source": [
    "df2[\"Company Name\"].unique()"
   ]
  },
  {
   "cell_type": "markdown",
   "metadata": {},
   "source": [
    "# There are too many categories which we have to predict, thats why we will convert them into labels"
   ]
  },
  {
   "cell_type": "code",
   "execution_count": 14,
   "metadata": {},
   "outputs": [
    {
     "name": "stderr",
     "output_type": "stream",
     "text": [
      "<ipython-input-14-7a246ee9b159>:3: SettingWithCopyWarning: \n",
      "A value is trying to be set on a copy of a slice from a DataFrame.\n",
      "Try using .loc[row_indexer,col_indexer] = value instead\n",
      "\n",
      "See the caveats in the documentation: https://pandas.pydata.org/pandas-docs/stable/user_guide/indexing.html#returning-a-view-versus-a-copy\n",
      "  df2['label']=le.fit_transform(df2['Industry Classification Tag'])\n"
     ]
    }
   ],
   "source": [
    "from sklearn import preprocessing\n",
    "le = preprocessing.LabelEncoder()\n",
    "df2['label']=le.fit_transform(df2['Industry Classification Tag'])"
   ]
  },
  {
   "cell_type": "code",
   "execution_count": 15,
   "metadata": {},
   "outputs": [
    {
     "data": {
      "text/html": [
       "<div>\n",
       "<style scoped>\n",
       "    .dataframe tbody tr th:only-of-type {\n",
       "        vertical-align: middle;\n",
       "    }\n",
       "\n",
       "    .dataframe tbody tr th {\n",
       "        vertical-align: top;\n",
       "    }\n",
       "\n",
       "    .dataframe thead th {\n",
       "        text-align: right;\n",
       "    }\n",
       "</style>\n",
       "<table border=\"1\" class=\"dataframe\">\n",
       "  <thead>\n",
       "    <tr style=\"text-align: right;\">\n",
       "      <th></th>\n",
       "      <th>Company Name</th>\n",
       "      <th>Business Description</th>\n",
       "      <th>Industry Classification Tag</th>\n",
       "      <th>label</th>\n",
       "    </tr>\n",
       "  </thead>\n",
       "  <tbody>\n",
       "    <tr>\n",
       "      <th>0</th>\n",
       "      <td>ADSOUTH PARTNERS, INC.</td>\n",
       "      <td>Adsouth Partners, Inc. provides advertising ag...</td>\n",
       "      <td>Advertising</td>\n",
       "      <td>0</td>\n",
       "    </tr>\n",
       "    <tr>\n",
       "      <th>1</th>\n",
       "      <td>Artec Global Media, Inc.</td>\n",
       "      <td>Artec Global Media, Inc., formerly Artec Consu...</td>\n",
       "      <td>Advertising</td>\n",
       "      <td>0</td>\n",
       "    </tr>\n",
       "    <tr>\n",
       "      <th>2</th>\n",
       "      <td>Betawave Corp.</td>\n",
       "      <td>Betawave Corporation provides online marketing...</td>\n",
       "      <td>Advertising</td>\n",
       "      <td>0</td>\n",
       "    </tr>\n",
       "    <tr>\n",
       "      <th>3</th>\n",
       "      <td>BOSTON OMAHA Corp</td>\n",
       "      <td>Boston Omaha Corporation is engaged in the bus...</td>\n",
       "      <td>Advertising</td>\n",
       "      <td>0</td>\n",
       "    </tr>\n",
       "    <tr>\n",
       "      <th>4</th>\n",
       "      <td>Bright Mountain Media Inc</td>\n",
       "      <td>Bright Mountain Media, Inc. is a digital media...</td>\n",
       "      <td>Advertising</td>\n",
       "      <td>0</td>\n",
       "    </tr>\n",
       "    <tr>\n",
       "      <th>...</th>\n",
       "      <td>...</td>\n",
       "      <td>...</td>\n",
       "      <td>...</td>\n",
       "      <td>...</td>\n",
       "    </tr>\n",
       "    <tr>\n",
       "      <th>6040</th>\n",
       "      <td>Willis Lease Finance Corporation</td>\n",
       "      <td>Willis Lease Finance Corporation along with it...</td>\n",
       "      <td>Trading Companies &amp; Distributors</td>\n",
       "      <td>61</td>\n",
       "    </tr>\n",
       "    <tr>\n",
       "      <th>6041</th>\n",
       "      <td>WindGen Energy Inc</td>\n",
       "      <td>WindGen Energy, Inc. (WindGen) is focused on w...</td>\n",
       "      <td>Trading Companies &amp; Distributors</td>\n",
       "      <td>61</td>\n",
       "    </tr>\n",
       "    <tr>\n",
       "      <th>6042</th>\n",
       "      <td>XLI Technologies Inc</td>\n",
       "      <td>XLI Technologies, Inc., formerly Mineria Y Exp...</td>\n",
       "      <td>Trading Companies &amp; Distributors</td>\n",
       "      <td>61</td>\n",
       "    </tr>\n",
       "    <tr>\n",
       "      <th>6043</th>\n",
       "      <td>Armco Metals Holdings, Inc.</td>\n",
       "      <td>Armco Metals Holdings, Inc. is a scrap steel p...</td>\n",
       "      <td>Trading Companies &amp; Distributors</td>\n",
       "      <td>61</td>\n",
       "    </tr>\n",
       "    <tr>\n",
       "      <th>6044</th>\n",
       "      <td>Foundation Building Materials, Inc.</td>\n",
       "      <td>Foundation Building Materials, Inc. is a speci...</td>\n",
       "      <td>Trading Companies &amp; Distributors</td>\n",
       "      <td>61</td>\n",
       "    </tr>\n",
       "  </tbody>\n",
       "</table>\n",
       "<p>6022 rows × 4 columns</p>\n",
       "</div>"
      ],
      "text/plain": [
       "                             Company Name  \\\n",
       "0                  ADSOUTH PARTNERS, INC.   \n",
       "1                Artec Global Media, Inc.   \n",
       "2                          Betawave Corp.   \n",
       "3                       BOSTON OMAHA Corp   \n",
       "4               Bright Mountain Media Inc   \n",
       "...                                   ...   \n",
       "6040     Willis Lease Finance Corporation   \n",
       "6041                   WindGen Energy Inc   \n",
       "6042                 XLI Technologies Inc   \n",
       "6043          Armco Metals Holdings, Inc.   \n",
       "6044  Foundation Building Materials, Inc.   \n",
       "\n",
       "                                   Business Description  \\\n",
       "0     Adsouth Partners, Inc. provides advertising ag...   \n",
       "1     Artec Global Media, Inc., formerly Artec Consu...   \n",
       "2     Betawave Corporation provides online marketing...   \n",
       "3     Boston Omaha Corporation is engaged in the bus...   \n",
       "4     Bright Mountain Media, Inc. is a digital media...   \n",
       "...                                                 ...   \n",
       "6040  Willis Lease Finance Corporation along with it...   \n",
       "6041  WindGen Energy, Inc. (WindGen) is focused on w...   \n",
       "6042  XLI Technologies, Inc., formerly Mineria Y Exp...   \n",
       "6043  Armco Metals Holdings, Inc. is a scrap steel p...   \n",
       "6044  Foundation Building Materials, Inc. is a speci...   \n",
       "\n",
       "           Industry Classification Tag  label  \n",
       "0                          Advertising      0  \n",
       "1                          Advertising      0  \n",
       "2                          Advertising      0  \n",
       "3                          Advertising      0  \n",
       "4                          Advertising      0  \n",
       "...                                ...    ...  \n",
       "6040  Trading Companies & Distributors     61  \n",
       "6041  Trading Companies & Distributors     61  \n",
       "6042  Trading Companies & Distributors     61  \n",
       "6043  Trading Companies & Distributors     61  \n",
       "6044  Trading Companies & Distributors     61  \n",
       "\n",
       "[6022 rows x 4 columns]"
      ]
     },
     "execution_count": 15,
     "metadata": {},
     "output_type": "execute_result"
    }
   ],
   "source": [
    "df2"
   ]
  },
  {
   "cell_type": "markdown",
   "metadata": {},
   "source": [
    "# Splitting our data into test and train data"
   ]
  },
  {
   "cell_type": "code",
   "execution_count": 16,
   "metadata": {},
   "outputs": [],
   "source": [
    "from sklearn.model_selection import train_test_split\n",
    "X_train, X_test, y_train, y_test = train_test_split(df2.iloc[:,0:2],df2.label)"
   ]
  },
  {
   "cell_type": "code",
   "execution_count": 17,
   "metadata": {},
   "outputs": [
    {
     "data": {
      "text/html": [
       "<div>\n",
       "<style scoped>\n",
       "    .dataframe tbody tr th:only-of-type {\n",
       "        vertical-align: middle;\n",
       "    }\n",
       "\n",
       "    .dataframe tbody tr th {\n",
       "        vertical-align: top;\n",
       "    }\n",
       "\n",
       "    .dataframe thead th {\n",
       "        text-align: right;\n",
       "    }\n",
       "</style>\n",
       "<table border=\"1\" class=\"dataframe\">\n",
       "  <thead>\n",
       "    <tr style=\"text-align: right;\">\n",
       "      <th></th>\n",
       "      <th>Company Name</th>\n",
       "      <th>Business Description</th>\n",
       "    </tr>\n",
       "  </thead>\n",
       "  <tbody>\n",
       "    <tr>\n",
       "      <th>2636</th>\n",
       "      <td>POSITIVEID Corp</td>\n",
       "      <td>PositiveID Corporation, formerly VeriChip Corp...</td>\n",
       "    </tr>\n",
       "    <tr>\n",
       "      <th>1297</th>\n",
       "      <td>Gamesys Group PLC</td>\n",
       "      <td>Gamesys Group plc, formerly JPJ Group plc, is ...</td>\n",
       "    </tr>\n",
       "    <tr>\n",
       "      <th>4073</th>\n",
       "      <td>WEST CANYON ENERGY CORP.</td>\n",
       "      <td>WEST CANYON ENERGY CORP. is an oil and gas exp...</td>\n",
       "    </tr>\n",
       "    <tr>\n",
       "      <th>1206</th>\n",
       "      <td>Epwin Group PLC</td>\n",
       "      <td>Epwin Group Plc is a manufacturer of extrusion...</td>\n",
       "    </tr>\n",
       "    <tr>\n",
       "      <th>5837</th>\n",
       "      <td>MultiQ International AB</td>\n",
       "      <td>MultiQ International AB is a Sweden-based comp...</td>\n",
       "    </tr>\n",
       "  </tbody>\n",
       "</table>\n",
       "</div>"
      ],
      "text/plain": [
       "                  Company Name  \\\n",
       "2636           POSITIVEID Corp   \n",
       "1297         Gamesys Group PLC   \n",
       "4073  WEST CANYON ENERGY CORP.   \n",
       "1206           Epwin Group PLC   \n",
       "5837   MultiQ International AB   \n",
       "\n",
       "                                   Business Description  \n",
       "2636  PositiveID Corporation, formerly VeriChip Corp...  \n",
       "1297  Gamesys Group plc, formerly JPJ Group plc, is ...  \n",
       "4073  WEST CANYON ENERGY CORP. is an oil and gas exp...  \n",
       "1206  Epwin Group Plc is a manufacturer of extrusion...  \n",
       "5837  MultiQ International AB is a Sweden-based comp...  "
      ]
     },
     "execution_count": 17,
     "metadata": {},
     "output_type": "execute_result"
    }
   ],
   "source": [
    "X_train.head()"
   ]
  },
  {
   "cell_type": "markdown",
   "metadata": {},
   "source": [
    "# There are two features both are in words but in the business description already the name of company is given thats why we will ignore company name feature, and converting the words into vector form by the help of CountVectorizer."
   ]
  },
  {
   "cell_type": "code",
   "execution_count": 18,
   "metadata": {},
   "outputs": [
    {
     "data": {
      "text/plain": [
       "array([[0, 0, 0, ..., 0, 0, 0],\n",
       "       [0, 0, 0, ..., 0, 0, 0]], dtype=int64)"
      ]
     },
     "execution_count": 18,
     "metadata": {},
     "output_type": "execute_result"
    }
   ],
   "source": [
    "from sklearn.feature_extraction.text import CountVectorizer\n",
    "v = CountVectorizer()\n",
    "X_train_count_company_name = v.fit_transform(X_train['Business Description'].values)\n",
    "X_train_count_company_name.toarray()[:2]"
   ]
  },
  {
   "cell_type": "markdown",
   "metadata": {},
   "source": [
    "# We will use Multinomial naive bays for this classification "
   ]
  },
  {
   "cell_type": "code",
   "execution_count": 19,
   "metadata": {},
   "outputs": [
    {
     "data": {
      "text/plain": [
       "MultinomialNB()"
      ]
     },
     "execution_count": 19,
     "metadata": {},
     "output_type": "execute_result"
    }
   ],
   "source": [
    "from sklearn.naive_bayes import MultinomialNB\n",
    "model = MultinomialNB()\n",
    "model.fit(X_train_count_company_name,y_train)"
   ]
  },
  {
   "cell_type": "code",
   "execution_count": 20,
   "metadata": {},
   "outputs": [],
   "source": [
    "X_test_count1 = v.transform(X_test[\"Business Description\"])\n"
   ]
  },
  {
   "cell_type": "raw",
   "metadata": {},
   "source": [
    "#Finding Score of Model"
   ]
  },
  {
   "cell_type": "code",
   "execution_count": 21,
   "metadata": {},
   "outputs": [
    {
     "data": {
      "text/plain": [
       "0.4674634794156706"
      ]
     },
     "execution_count": 21,
     "metadata": {},
     "output_type": "execute_result"
    }
   ],
   "source": [
    "model.score(X_test_count1,y_test)"
   ]
  },
  {
   "cell_type": "code",
   "execution_count": 22,
   "metadata": {},
   "outputs": [],
   "source": [
    "y_pred=model.predict(X_test_count1)"
   ]
  },
  {
   "cell_type": "markdown",
   "metadata": {},
   "source": [
    "# Confusion Matrics"
   ]
  },
  {
   "cell_type": "code",
   "execution_count": 23,
   "metadata": {},
   "outputs": [
    {
     "data": {
      "text/plain": [
       "array([[12,  0,  0, ...,  0,  0,  0],\n",
       "       [ 0,  4,  0, ...,  0,  0,  0],\n",
       "       [ 0,  0,  2, ...,  0,  0,  0],\n",
       "       ...,\n",
       "       [ 1,  0,  0, ...,  0,  0,  0],\n",
       "       [ 0,  0,  0, ...,  0,  0,  0],\n",
       "       [ 0,  1,  0, ...,  0,  0,  0]], dtype=int64)"
      ]
     },
     "execution_count": 23,
     "metadata": {},
     "output_type": "execute_result"
    }
   ],
   "source": [
    "from sklearn.metrics import confusion_matrix\n",
    "cm=confusion_matrix(y_test,y_pred)\n",
    "cm"
   ]
  },
  {
   "cell_type": "markdown",
   "metadata": {},
   "source": [
    "# Converting the labels into the respective name "
   ]
  },
  {
   "cell_type": "code",
   "execution_count": 24,
   "metadata": {},
   "outputs": [],
   "source": [
    "dct={}\n",
    "for index,row in df2.iterrows():\n",
    "              if row['label'] not in dct.keys():\n",
    "                  dct[row['label']]=row[\"Industry Classification Tag\"]\n",
    "        \n"
   ]
  },
  {
   "cell_type": "code",
   "execution_count": 25,
   "metadata": {
    "scrolled": true
   },
   "outputs": [
    {
     "data": {
      "text/plain": [
       "{0: 'Advertising',\n",
       " 1: 'Aerospace & Defense',\n",
       " 2: 'Apparel Retail',\n",
       " 3: 'Apparel, Accessories & Luxury Goods',\n",
       " 4: 'Application Software',\n",
       " 5: 'Asset Management & Custody Banks',\n",
       " 6: 'Auto Parts & Equipment',\n",
       " 7: 'Biotechnology',\n",
       " 8: 'Building Products',\n",
       " 9: 'Casinos & Gaming',\n",
       " 10: 'Commodity Chemicals',\n",
       " 11: 'Communications Equipment',\n",
       " 12: 'Construction & Engineering',\n",
       " 13: 'Construction Machinery & Heavy Trucks',\n",
       " 14: 'Consumer Finance',\n",
       " 15: 'Data Processing & Outsourced Services',\n",
       " 16: 'Diversified Metals & Mining',\n",
       " 17: 'Diversified Support Services',\n",
       " 18: 'Electric Utilities',\n",
       " 19: 'Electrical Components & Equipment',\n",
       " 20: 'Electronic Equipment & Instruments',\n",
       " 21: 'Environmental & Facilities Services',\n",
       " 22: 'Gold',\n",
       " 23: 'Health Care Equipment',\n",
       " 24: 'Health Care Facilities',\n",
       " 25: 'Health Care Services',\n",
       " 26: 'Health Care Supplies',\n",
       " 27: 'Health Care Technology',\n",
       " 28: 'Homebuilding',\n",
       " 29: 'Hotels, Resorts & Cruise Lines',\n",
       " 30: 'Human Resource & Employment Services',\n",
       " 32: 'Industrial Machinery',\n",
       " 33: 'Integrated Telecommunication Services',\n",
       " 34: 'Interactive Media & Services',\n",
       " 35: 'Internet & Direct Marketing Retail',\n",
       " 36: 'Internet Services & Infrastructure',\n",
       " 37: 'Investment Banking & Brokerage',\n",
       " 31: 'IT Consulting & Other Services',\n",
       " 38: 'Leisure Products',\n",
       " 39: 'Life Sciences Tools & Services',\n",
       " 40: 'Movies & Entertainment',\n",
       " 41: 'Oil & Gas Equipment & Services',\n",
       " 42: 'Oil & Gas Exploration & Production',\n",
       " 43: 'Oil & Gas Refining & Marketing',\n",
       " 44: 'Oil & Gas Storage & Transportation',\n",
       " 45: 'Packaged Foods & Meats',\n",
       " 46: 'Personal Products',\n",
       " 47: 'Pharmaceuticals',\n",
       " 48: 'Property & Casualty Insurance',\n",
       " 49: 'Real Estate Operating Companies',\n",
       " 50: 'Regional Banks',\n",
       " 51: 'Research & Consulting Services',\n",
       " 52: 'Restaurants',\n",
       " 53: 'Semiconductors',\n",
       " 54: 'Specialty Chemicals',\n",
       " 55: 'Specialty Stores',\n",
       " 56: 'Steel',\n",
       " 57: 'Systems Software',\n",
       " 58: 'Technology Distributors',\n",
       " 59: 'Technology Hardware, Storage & Peripherals',\n",
       " 60: 'Thrifts & Mortgage Finance',\n",
       " 61: 'Trading Companies & Distributors'}"
      ]
     },
     "execution_count": 25,
     "metadata": {},
     "output_type": "execute_result"
    }
   ],
   "source": [
    "dct"
   ]
  },
  {
   "cell_type": "markdown",
   "metadata": {},
   "source": [
    "# Testing for some self given description "
   ]
  },
  {
   "cell_type": "code",
   "execution_count": 26,
   "metadata": {},
   "outputs": [],
   "source": [
    "\n",
    "description=[\"Marchex, Inc. is a mobile advertising analytics company. The Company offers products and services for enterprises that depend on consumer phone calls to drive sales. Its media analytics products can provide actionable intelligence on media channels advertisers use to acquire customers over the phone. Its Marchex Omnichannel Analytics Cloud helps marketers connect customer conversions driven from paid media channels, including search, display and video, social and sites, to phone calls made to a business. Its product offerings include Marchex Call Analytics, Marchex Search Analytics, Marchex Display and Video Analytics, Marchex Social Analytics, Marchex Call Marketplace and Local Leads. Its Local Leads platform is a white-labeled, full service advertising solution for small business resellers, such as Yellow Pages providers and vertical marketing service providers, to sell call advertising, search marketing and other lead generation products.\"]\n",
    "test=v.transform(description)\n",
    "ans=model.predict(test)"
   ]
  },
  {
   "cell_type": "markdown",
   "metadata": {},
   "source": [
    "# Importing the test excel file to know the output"
   ]
  },
  {
   "cell_type": "code",
   "execution_count": 27,
   "metadata": {},
   "outputs": [
    {
     "data": {
      "text/plain": [
       "1544"
      ]
     },
     "execution_count": 27,
     "metadata": {},
     "output_type": "execute_result"
    }
   ],
   "source": [
    "test_dataset=pd.read_excel(r\"C:\\Users\\USER\\Downloads\\Testing_Data_2_ (1) (1).xlsx\")\n",
    "test_dataset.size"
   ]
  },
  {
   "cell_type": "code",
   "execution_count": 28,
   "metadata": {},
   "outputs": [
    {
     "data": {
      "text/plain": [
       "Company                 0\n",
       "Business Description    0\n",
       "dtype: int64"
      ]
     },
     "execution_count": 28,
     "metadata": {},
     "output_type": "execute_result"
    }
   ],
   "source": [
    "test_dataset.isnull().sum()"
   ]
  },
  {
   "cell_type": "code",
   "execution_count": 29,
   "metadata": {},
   "outputs": [
    {
     "data": {
      "text/html": [
       "<div>\n",
       "<style scoped>\n",
       "    .dataframe tbody tr th:only-of-type {\n",
       "        vertical-align: middle;\n",
       "    }\n",
       "\n",
       "    .dataframe tbody tr th {\n",
       "        vertical-align: top;\n",
       "    }\n",
       "\n",
       "    .dataframe thead th {\n",
       "        text-align: right;\n",
       "    }\n",
       "</style>\n",
       "<table border=\"1\" class=\"dataframe\">\n",
       "  <thead>\n",
       "    <tr style=\"text-align: right;\">\n",
       "      <th></th>\n",
       "      <th>Company</th>\n",
       "      <th>Business Description</th>\n",
       "    </tr>\n",
       "  </thead>\n",
       "  <tbody>\n",
       "    <tr>\n",
       "      <th>0</th>\n",
       "      <td>3rd Rock Multimedia Ltd</td>\n",
       "      <td>3rd Rock Multimedia Limited is an India-based ...</td>\n",
       "    </tr>\n",
       "    <tr>\n",
       "      <th>1</th>\n",
       "      <td>Andhra Petrochemicals Ltd</td>\n",
       "      <td>The Andhra Petrochemicals Limited is an India-...</td>\n",
       "    </tr>\n",
       "    <tr>\n",
       "      <th>2</th>\n",
       "      <td>Force Motors Ltd</td>\n",
       "      <td>Force Motors Limited is a holding company. The...</td>\n",
       "    </tr>\n",
       "    <tr>\n",
       "      <th>3</th>\n",
       "      <td>Diamines And Chemicals Ltd</td>\n",
       "      <td>Diamines and Chemicals Limited is a holding co...</td>\n",
       "    </tr>\n",
       "    <tr>\n",
       "      <th>4</th>\n",
       "      <td>Insilco Ltd</td>\n",
       "      <td>Insilco Limited is engaged in manufacturing an...</td>\n",
       "    </tr>\n",
       "  </tbody>\n",
       "</table>\n",
       "</div>"
      ],
      "text/plain": [
       "                     Company   \\\n",
       "0     3rd Rock Multimedia Ltd   \n",
       "1   Andhra Petrochemicals Ltd   \n",
       "2            Force Motors Ltd   \n",
       "3  Diamines And Chemicals Ltd   \n",
       "4                 Insilco Ltd   \n",
       "\n",
       "                                Business Description  \n",
       "0  3rd Rock Multimedia Limited is an India-based ...  \n",
       "1  The Andhra Petrochemicals Limited is an India-...  \n",
       "2  Force Motors Limited is a holding company. The...  \n",
       "3  Diamines and Chemicals Limited is a holding co...  \n",
       "4  Insilco Limited is engaged in manufacturing an...  "
      ]
     },
     "execution_count": 29,
     "metadata": {},
     "output_type": "execute_result"
    }
   ],
   "source": [
    "test_dataset.head()"
   ]
  },
  {
   "cell_type": "code",
   "execution_count": null,
   "metadata": {},
   "outputs": [],
   "source": []
  },
  {
   "cell_type": "code",
   "execution_count": 30,
   "metadata": {},
   "outputs": [],
   "source": [
    "dct2={'Business Description':[],'Output/Industry Classification Tag':[]}\n",
    "I=0\n",
    "for index,rows in test_dataset.iterrows():\n",
    "    if I==1000:\n",
    "        break\n",
    "    \n",
    "    I+=1\n",
    "    dct2['Business Description'].append(rows['Business Description'])\n",
    "    description=[rows['Business Description']]\n",
    "    test=v.transform(description)\n",
    "    ans=model.predict(test)\n",
    "    dct2['Output/Industry Classification Tag'].append(dct[ans[0]])"
   ]
  },
  {
   "cell_type": "code",
   "execution_count": 31,
   "metadata": {},
   "outputs": [],
   "source": [
    "FINALOUTPUT_DATAFRAME=pd.DataFrame(dct2)"
   ]
  },
  {
   "cell_type": "markdown",
   "metadata": {},
   "source": [
    "# Final OUTPUT DATASET "
   ]
  },
  {
   "cell_type": "code",
   "execution_count": 32,
   "metadata": {},
   "outputs": [
    {
     "data": {
      "text/html": [
       "<div>\n",
       "<style scoped>\n",
       "    .dataframe tbody tr th:only-of-type {\n",
       "        vertical-align: middle;\n",
       "    }\n",
       "\n",
       "    .dataframe tbody tr th {\n",
       "        vertical-align: top;\n",
       "    }\n",
       "\n",
       "    .dataframe thead th {\n",
       "        text-align: right;\n",
       "    }\n",
       "</style>\n",
       "<table border=\"1\" class=\"dataframe\">\n",
       "  <thead>\n",
       "    <tr style=\"text-align: right;\">\n",
       "      <th></th>\n",
       "      <th>Business Description</th>\n",
       "      <th>Output/Industry Classification Tag</th>\n",
       "    </tr>\n",
       "  </thead>\n",
       "  <tbody>\n",
       "    <tr>\n",
       "      <th>0</th>\n",
       "      <td>3rd Rock Multimedia Limited is an India-based ...</td>\n",
       "      <td>Advertising</td>\n",
       "    </tr>\n",
       "    <tr>\n",
       "      <th>1</th>\n",
       "      <td>The Andhra Petrochemicals Limited is an India-...</td>\n",
       "      <td>Industrial Machinery</td>\n",
       "    </tr>\n",
       "    <tr>\n",
       "      <th>2</th>\n",
       "      <td>Force Motors Limited is a holding company. The...</td>\n",
       "      <td>Construction Machinery &amp; Heavy Trucks</td>\n",
       "    </tr>\n",
       "    <tr>\n",
       "      <th>3</th>\n",
       "      <td>Diamines and Chemicals Limited is a holding co...</td>\n",
       "      <td>Commodity Chemicals</td>\n",
       "    </tr>\n",
       "    <tr>\n",
       "      <th>4</th>\n",
       "      <td>Insilco Limited is engaged in manufacturing an...</td>\n",
       "      <td>Commodity Chemicals</td>\n",
       "    </tr>\n",
       "    <tr>\n",
       "      <th>...</th>\n",
       "      <td>...</td>\n",
       "      <td>...</td>\n",
       "    </tr>\n",
       "    <tr>\n",
       "      <th>95</th>\n",
       "      <td>Stone India Limited is principally engaged in ...</td>\n",
       "      <td>Building Products</td>\n",
       "    </tr>\n",
       "    <tr>\n",
       "      <th>96</th>\n",
       "      <td>Artson Engineering Limited is engaged in the m...</td>\n",
       "      <td>Industrial Machinery</td>\n",
       "    </tr>\n",
       "    <tr>\n",
       "      <th>97</th>\n",
       "      <td>Frontier Springs Limited is engaged in manufac...</td>\n",
       "      <td>Steel</td>\n",
       "    </tr>\n",
       "    <tr>\n",
       "      <th>98</th>\n",
       "      <td>Rasandik Engineering Industries India Limited ...</td>\n",
       "      <td>Construction Machinery &amp; Heavy Trucks</td>\n",
       "    </tr>\n",
       "    <tr>\n",
       "      <th>99</th>\n",
       "      <td>Taneja Aerospace and Aviation Limited is engag...</td>\n",
       "      <td>Aerospace &amp; Defense</td>\n",
       "    </tr>\n",
       "  </tbody>\n",
       "</table>\n",
       "<p>100 rows × 2 columns</p>\n",
       "</div>"
      ],
      "text/plain": [
       "                                 Business Description  \\\n",
       "0   3rd Rock Multimedia Limited is an India-based ...   \n",
       "1   The Andhra Petrochemicals Limited is an India-...   \n",
       "2   Force Motors Limited is a holding company. The...   \n",
       "3   Diamines and Chemicals Limited is a holding co...   \n",
       "4   Insilco Limited is engaged in manufacturing an...   \n",
       "..                                                ...   \n",
       "95  Stone India Limited is principally engaged in ...   \n",
       "96  Artson Engineering Limited is engaged in the m...   \n",
       "97  Frontier Springs Limited is engaged in manufac...   \n",
       "98  Rasandik Engineering Industries India Limited ...   \n",
       "99  Taneja Aerospace and Aviation Limited is engag...   \n",
       "\n",
       "       Output/Industry Classification Tag  \n",
       "0                             Advertising  \n",
       "1                    Industrial Machinery  \n",
       "2   Construction Machinery & Heavy Trucks  \n",
       "3                     Commodity Chemicals  \n",
       "4                     Commodity Chemicals  \n",
       "..                                    ...  \n",
       "95                      Building Products  \n",
       "96                   Industrial Machinery  \n",
       "97                                  Steel  \n",
       "98  Construction Machinery & Heavy Trucks  \n",
       "99                    Aerospace & Defense  \n",
       "\n",
       "[100 rows x 2 columns]"
      ]
     },
     "execution_count": 32,
     "metadata": {},
     "output_type": "execute_result"
    }
   ],
   "source": [
    "FINALOUTPUT_DATAFRAME.head(100)"
   ]
  },
  {
   "cell_type": "code",
   "execution_count": null,
   "metadata": {},
   "outputs": [],
   "source": []
  }
 ],
 "metadata": {
  "kernelspec": {
   "display_name": "Python 3",
   "language": "python",
   "name": "python3"
  },
  "language_info": {
   "codemirror_mode": {
    "name": "ipython",
    "version": 3
   },
   "file_extension": ".py",
   "mimetype": "text/x-python",
   "name": "python",
   "nbconvert_exporter": "python",
   "pygments_lexer": "ipython3",
   "version": "3.8.5"
  }
 },
 "nbformat": 4,
 "nbformat_minor": 4
}
